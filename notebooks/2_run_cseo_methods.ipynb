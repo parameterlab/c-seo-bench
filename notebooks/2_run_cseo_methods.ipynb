{
 "cells": [
  {
   "cell_type": "markdown",
   "id": "2dbcb89b",
   "metadata": {},
   "source": [
    "This notebook will run a C-SEO method on a list of documents from a domain of the benchmark.\n",
    "We already provide the improved documents for all C-SEO methods in `data_release/{partition}/selected_docs.json`"
   ]
  },
  {
   "cell_type": "code",
   "execution_count": null,
   "id": "ec5921e8",
   "metadata": {},
   "outputs": [],
   "source": [
    "import json\n",
    "from llms import OpenAIHelper, AnthropicHelper\n",
    "from methods import (\n",
    "    LLMstxt,\n",
    "    ContentImprovement,\n",
    "    Authoritative,\n",
    "    Statistics,\n",
    "    Citations,\n",
    "    Fluency,\n",
    "    UniqueWords,\n",
    "    TechnicalTerms,\n",
    "    SimpleLanguage,\n",
    "    Quotes,\n",
    ")\n",
    "from config import AdoptionMode\n",
    "import os"
   ]
  },
  {
   "cell_type": "markdown",
   "id": "637ad44e",
   "metadata": {},
   "source": [
    "# Setup"
   ]
  },
  {
   "cell_type": "code",
   "execution_count": null,
   "id": "8f9eb76b",
   "metadata": {},
   "outputs": [],
   "source": [
    "notebook_dir = os.getcwd()\n",
    "project_root = os.path.abspath(os.path.join(notebook_dir, \"..\"))\n",
    "\n",
    "config_path = os.path.join(project_root, \"config.json\")\n",
    "with open(config_path, \"r\") as f:\n",
    "    config = json.load(f)\n",
    "\n",
    "os.environ[\"OPENAI_API_KEY\"] = config[\"OPENAI_API_KEY\"]"
   ]
  },
  {
   "cell_type": "code",
   "execution_count": null,
   "id": "4a20538c",
   "metadata": {},
   "outputs": [],
   "source": [
    "# load the documents you want to improve using C-SEO methods\n",
    "domain = \"retail\"\n",
    "with open(os.path.join(project_root, \"data\", domain, \"selected_docs.json\"), \"r\") as f:\n",
    "    selected_docs = json.load(f)"
   ]
  },
  {
   "cell_type": "code",
   "execution_count": null,
   "id": "0729179c",
   "metadata": {},
   "outputs": [],
   "source": [
    "selected_docs[\"0\"]"
   ]
  },
  {
   "cell_type": "code",
   "execution_count": null,
   "id": "8f2d674d",
   "metadata": {},
   "outputs": [],
   "source": [
    "data_path = \"parameterlab/c-seo-bench\"\n",
    "list_methods = [\n",
    "    \"Authoritative\",\n",
    "    \"Statistics\",\n",
    "    \"Citations\",\n",
    "    \"Fluency\",\n",
    "    \"UniqueWords\",\n",
    "    \"TechnicalTerms\",\n",
    "    \"SimpleLanguage\",\n",
    "    \"Quotes\",\n",
    "    \"LLMstxt\",\n",
    "    \"ContentImprovement\",\n",
    "]\n",
    "\n",
    "methodname2class = {\n",
    "    \"Authoritative\": Authoritative,\n",
    "    \"LLMstxt\": LLMstxt,\n",
    "    \"ContentImprovement\": ContentImprovement,\n",
    "    \"Citations\": Citations,\n",
    "    \"Statistics\": Statistics,\n",
    "    \"Fluency\": Fluency,\n",
    "    \"UniqueWords\": UniqueWords,\n",
    "    \"TechnicalTerms\": TechnicalTerms,\n",
    "    \"SimpleLanguage\": SimpleLanguage,\n",
    "    \"Quotes\": Quotes,\n",
    "}"
   ]
  },
  {
   "cell_type": "code",
   "execution_count": null,
   "id": "9d330dc9",
   "metadata": {},
   "outputs": [],
   "source": [
    "llm_name = \"gpt-4o-mini-2024-07-18\"\n",
    "method_name = list_methods[0]\n",
    "\n",
    "print(\n",
    "    f\"You will run the C-SEO method {method_name} with {llm_name} on the selected documents from {domain}.\"\n",
    ")"
   ]
  },
  {
   "cell_type": "code",
   "execution_count": null,
   "id": "747aae3b",
   "metadata": {},
   "outputs": [],
   "source": [
    "llm = OpenAIHelper(llm_name)"
   ]
  },
  {
   "cell_type": "code",
   "execution_count": null,
   "id": "b1a1e825",
   "metadata": {},
   "outputs": [],
   "source": [
    "method = methodname2class[method_name](llm)"
   ]
  },
  {
   "cell_type": "markdown",
   "id": "427321f5",
   "metadata": {},
   "source": [
    "# Run the C-SEO Method"
   ]
  },
  {
   "cell_type": "code",
   "execution_count": null,
   "id": "0e28ce68",
   "metadata": {},
   "outputs": [],
   "source": [
    "output_folder = os.path.join(\n",
    "    project_root,\n",
    "    \"data\",\n",
    "    domain,\n",
    ")\n",
    "print(f\"Output folder: {output_folder}\")\n",
    "os.makedirs(output_folder, exist_ok=True)\n",
    "list_docs = []\n",
    "for data_point_idx in selected_docs.keys():\n",
    "    for doc_idx in selected_docs[data_point_idx].keys():\n",
    "        list_docs.append(selected_docs[data_point_idx][doc_idx][\"doc\"])\n",
    "\n",
    "batch_id = method.improve_texts(list_docs, output_folder)"
   ]
  },
  {
   "cell_type": "code",
   "execution_count": null,
   "id": "18566282",
   "metadata": {},
   "outputs": [],
   "source": [
    "status = llm.get_status(batch_id)\n",
    "print(f\"Status for {domain} x {method_name}: {status}\")"
   ]
  },
  {
   "cell_type": "code",
   "execution_count": null,
   "id": "a688b386",
   "metadata": {},
   "outputs": [],
   "source": [
    "# Download the results (run this when the status is 'completed')\n",
    "results_txt, total_cost = llm.retrieve_results(batch_id)\n",
    "i = 0\n",
    "for data_point_idx in selected_docs:\n",
    "    for doc_idx in selected_docs[data_point_idx].keys():\n",
    "        selected_docs[data_point_idx][doc_idx][f\"{method_name}(doc)\"] = results_txt[i]\n",
    "        i += 1\n",
    "# This is the list of updated descriptions using the method. For your convenience, we also provide them on the Hugging Face dataset.\n",
    "with open(os.path.join(output_folder, \"selected_docs.json\"), \"w\") as f:\n",
    "    f.write(json.dumps(selected_docs))\n",
    "\n",
    "with open(os.path.join(output_folder, \"total_cost.txt\"), \"w\") as f:\n",
    "    f.write(str(total_cost))\n",
    "\n",
    "print(f\"Total cost for {domain} x {method_name}: {total_cost}\")\n",
    "print(f\"Results for {domain} x {method_name} saved in {output_folder}\")"
   ]
  }
 ],
 "metadata": {
  "kernelspec": {
   "display_name": "cseo2",
   "language": "python",
   "name": "python3"
  },
  "language_info": {
   "codemirror_mode": {
    "name": "ipython",
    "version": 3
   },
   "file_extension": ".py",
   "mimetype": "text/x-python",
   "name": "python",
   "nbconvert_exporter": "python",
   "pygments_lexer": "ipython3",
   "version": "3.12.9"
  }
 },
 "nbformat": 4,
 "nbformat_minor": 5
}
